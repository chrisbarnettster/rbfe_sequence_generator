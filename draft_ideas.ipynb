{
 "cells": [
  {
   "cell_type": "markdown",
   "metadata": {},
   "source": [
    "# Relative Binding Free Energy Lambda Sequence Generator\n",
    "\n",
    "Maybe there is already on out there? but the idea is a simple way to generate lambdas for a relative free energy of binding calculation and also see what the whole things looks like. AKA sanity check\n"
   ]
  },
  {
   "cell_type": "code",
   "execution_count": null,
   "metadata": {},
   "outputs": [],
   "source": [
    "import numpy as np\n",
    "import pandas as pd\n",
    "import scipy"
   ]
  },
  {
   "cell_type": "code",
   "execution_count": null,
   "metadata": {},
   "outputs": [],
   "source": [
    "import ipywidgets as widgets"
   ]
  },
  {
   "cell_type": "code",
   "execution_count": null,
   "metadata": {},
   "outputs": [],
   "source": [
    "value = 39\n",
    "minm = 15\n",
    "maxm = 150\n",
    "step = 1 \n",
    "description='Bin #' #Number of bins (zero-based, so 39 means 40 bins)'\n",
    "\n",
    "\n",
    "bin_widget_text = widgets.BoundedIntText(value=value, min=minm, max=maxm, step=step, description=description)\n",
    "bin_widget_slide = widgets.IntSlider(value=value, min=minm, max=maxm, step=step, description=description) #value, min, max, step, description)\n",
    "display(bin_widget_text,bin_widget_slide)\n",
    "\n",
    "mylink = widgets.jslink((bin_widget_text, 'value'), (bin_widget_slide, 'value'))\n",
    "\n"
   ]
  },
  {
   "cell_type": "code",
   "execution_count": null,
   "metadata": {},
   "outputs": [],
   "source": [
    "widgets.ToggleButton(\n",
    "    value=False,\n",
    "    description='Click me',\n",
    "    disabled=False,\n",
    "    button_style='', # 'success', 'info', 'warning', 'danger' or ''\n",
    "    tooltip='Description',\n",
    "    icon='check' # (FontAwesome names without the `fa-` prefix)\n",
    ")"
   ]
  },
  {
   "cell_type": "code",
   "execution_count": null,
   "metadata": {},
   "outputs": [],
   "source": [
    "widgets.Checkbox(\n",
    "    value=True,\n",
    "    description='Charge Perturbation first?',\n",
    "    disabled=False,\n",
    "    indent=False\n",
    ")"
   ]
  },
  {
   "cell_type": "code",
   "execution_count": null,
   "metadata": {},
   "outputs": [],
   "source": [
    "\n",
    "widgets.Dropdown(\n",
    "    options=[('Charge Perturb First', 1), ('Charge Perturb Last', 2), ('No Charge Perturbation', 3)],\n",
    "    value=2,\n",
    "    description='Charge ?:',\n",
    ")"
   ]
  },
  {
   "cell_type": "code",
   "execution_count": null,
   "metadata": {},
   "outputs": [],
   "source": [
    "value = 10\n",
    "minm = 0\n",
    "maxm = 20\n",
    "step = 1 \n",
    "description='Charge Windows #' #Number of bins (zero-based, so 39 means 40 bins)'\n",
    "\n",
    "\n",
    "a = widgets.BoundedIntText(value=value, min=minm, max=maxm, step=step, description=description)\n",
    "b = widgets.IntSlider(value=value, min=minm, max=maxm, step=step, description=description) #value, min, max, step, description)\n",
    "display(a,b)\n",
    "\n",
    "mylink = widgets.jslink((a, 'value'), (b, 'value'))"
   ]
  },
  {
   "cell_type": "code",
   "execution_count": null,
   "metadata": {},
   "outputs": [],
   "source": [
    "# infer vdW from the charge info\n",
    "# if charge pertb first\n",
    "# so vdwstart = total bins - charge bins and vdw end = total bins\n",
    "# else if charge pert last\n",
    "# vdstart =0 and end = total bins\n",
    "# else if no charge pert\n",
    "# vdstart = 0 and end=total bins\n",
    "\n",
    "# same for bond"
   ]
  },
  {
   "cell_type": "code",
   "execution_count": null,
   "metadata": {},
   "outputs": [],
   "source": [
    "# charge behaviour - to start just do equal spacing"
   ]
  },
  {
   "cell_type": "code",
   "execution_count": null,
   "metadata": {},
   "outputs": [],
   "source": [
    "#vdw behaviour - to start just do equal spacing"
   ]
  },
  {
   "cell_type": "code",
   "execution_count": null,
   "metadata": {},
   "outputs": [],
   "source": [
    "# tapering at end to start just fake it or do nothing"
   ]
  },
  {
   "cell_type": "code",
   "execution_count": null,
   "metadata": {},
   "outputs": [],
   "source": [
    "charge_x = np.arange(9)\n",
    "charge_y = np.linspace(0.0,1.0, num=9, endpoint=True) \n",
    "vdw_x = np.arange(start=9,stop=9+29)\n",
    "vdw_y = np.linspace(0.0,1.0, num=29, endpoint=True)"
   ]
  },
  {
   "cell_type": "code",
   "execution_count": null,
   "metadata": {},
   "outputs": [],
   "source": [
    "list(zip(charge_y, charge_x))"
   ]
  },
  {
   "cell_type": "code",
   "execution_count": null,
   "metadata": {},
   "outputs": [],
   "source": [
    "import matplotlib.pyplot as plt\n",
    "import matplotlib\n",
    "#plt.plot(x1, y, 'o')\n",
    "%matplotlib inline\n",
    "plt.plot(charge_x, charge_y, 'o')\n",
    "plt.plot(vdw_x, vdw_y, '-')\n",
    "plt.show()"
   ]
  },
  {
   "cell_type": "code",
   "execution_count": null,
   "metadata": {},
   "outputs": [],
   "source": [
    "test_charge = np.fromstring(\"0.00 0.11 0.22 0.33 0.44 0.56 0.67 0.78 0.89 1.00 1.00 1.00 1.00 1.00 1.00 1.00 1.00 1.00 1.00 1.00 1.00 1.00 1.00 1.00 1.00 1.00 1.00 1.00 1.00 1.00 1.00 1.00 1.00 1.00 1.00 1.00 1.00 1.00 1.00 1.00\",dtype=float,sep=' ')"
   ]
  },
  {
   "cell_type": "code",
   "execution_count": null,
   "metadata": {},
   "outputs": [],
   "source": [
    "test_vdw = np.fromstring(\"0.00 0.00 0.00 0.00 0.00 0.00 0.00 0.00 0.00 0.00 0.04 0.08 0.11 0.15 0.19 0.23 0.27 0.30 0.34 0.38 0.42 0.46 0.49 0.53 0.57 0.61 0.65 0.68 0.72 0.76 0.80 0.84 0.87 0.91 0.95 0.97 0.98 0.99 0.99 1.00\",dtype=float,sep=' ')"
   ]
  },
  {
   "cell_type": "code",
   "execution_count": null,
   "metadata": {},
   "outputs": [],
   "source": [
    "test_bonding = np.fromstring(\"0.00 0.00 0.00 0.00 0.00 0.00 0.00 0.00 0.00 0.00 0.04 0.08 0.11 0.15 0.19 0.23 0.27 0.30 0.34 0.38 0.42 0.46 0.49 0.53 0.57 0.61 0.65 0.68 0.72 0.76 0.80 0.84 0.87 0.91 0.95 0.97 0.98 0.99 0.99 1.00\",dtype=float,sep=' ')"
   ]
  },
  {
   "cell_type": "code",
   "execution_count": null,
   "metadata": {},
   "outputs": [],
   "source": [
    "test_bonding"
   ]
  },
  {
   "cell_type": "code",
   "execution_count": null,
   "metadata": {},
   "outputs": [],
   "source": [
    "np.arange(40)"
   ]
  },
  {
   "cell_type": "code",
   "execution_count": null,
   "metadata": {},
   "outputs": [],
   "source": [
    "plt.plot(np.arange(40), test_charge, '-')\n",
    "\n",
    "plt.plot(np.arange(40), test_vdw, 'x')\n",
    "\n",
    "plt.plot(np.arange(40), test_bonding, 'o')\n",
    "\n",
    "plt.show()"
   ]
  },
  {
   "cell_type": "code",
   "execution_count": null,
   "metadata": {},
   "outputs": [],
   "source": [
    "charge_x = np.arange(40)\n",
    "charge_y = np.append(np.linspace(0.0,1.0, num=10, endpoint=True),np.linspace(1.0,1.0,num=30, endpoint=True))\n",
    "vdw_x = np.arange(40)\n",
    "vdw_y =  np.append(np.linspace(0.0,0.0,num=10, endpoint=True),np.linspace(0.0,1.0, num=30, endpoint=True))\n",
    "vdw_y_taper =  np.append(np.append(np.linspace(0.0,0.0,num=9, endpoint=True),np.linspace(0.0,0.95, num=25, endpoint=False)), np.linspace(0.95,1.0, num=6, endpoint=True))\n",
    "\n",
    "vdw_y_taper =  np.append(np.append(np.append(np.linspace(0.0,0.0,num=9, endpoint=True),np.linspace(0.0,0.95, num=25, endpoint=False)),\n",
    "                         np.linspace(0.95,0.99, num=3, endpoint=False)),\n",
    "                         np.linspace(0.99,1.0, num=3, endpoint=True))\n",
    "#np.linspace(0.0,1.0, num=30, endpoint=True)[25]"
   ]
  },
  {
   "cell_type": "code",
   "execution_count": null,
   "metadata": {},
   "outputs": [],
   "source": [
    "aa = np.linspace(0.0,1.0, num=9, endpoint=True)\n",
    "bb = np.linspace(0.0,0.0,num=29, endpoint=True)"
   ]
  },
  {
   "cell_type": "code",
   "execution_count": null,
   "metadata": {},
   "outputs": [],
   "source": [
    "aa, bb\n",
    "len(np.append(aa,bb))\n"
   ]
  },
  {
   "cell_type": "code",
   "execution_count": null,
   "metadata": {},
   "outputs": [],
   "source": [
    "import matplotlib.pyplot as plt\n",
    "import matplotlib\n",
    "#plt.plot(x1, y, 'o')\n",
    "%matplotlib inline\n",
    "plt.plot(charge_x, charge_y, 'o')\n",
    "plt.plot(vdw_x, vdw_y, '-')\n",
    "plt.plot(vdw_x, vdw_y_taper, '^')\n",
    "plt.plot(np.arange(40), test_charge, 'x')\n",
    "\n",
    "plt.plot(np.arange(40), test_vdw, 'x')\n",
    "\n",
    "plt.plot(np.arange(40), test_bonding, 'x')\n",
    "\n",
    "plt.show()"
   ]
  },
  {
   "cell_type": "code",
   "execution_count": null,
   "metadata": {},
   "outputs": [],
   "source": [
    "np.linspace(0.0,1.0, num=30, endpoint=True)[25]"
   ]
  },
  {
   "cell_type": "code",
   "execution_count": null,
   "metadata": {},
   "outputs": [],
   "source": [
    "def gen_sequence(total_bins, charge_bins, taper1_bins=3,  taper1_val=0.95, taper2_bins=3, taper2_val=0.99):\n",
    "\n",
    "    # taper1_val is the value of to start with e.g. 0.98\n",
    "    # taper 2_val is the value tto end tapr 1 at adn start taper 2\n",
    "    # taper1_bins is number of bins or pnts to taper over e.g. \n",
    "    # taper 2 bins e.g. the last 3 bins then put in 3\n",
    "    charge_x = np.arange(total_bins)\n",
    "    charge_y = np.append(np.linspace(0.0,1.0, num=charge_bins, endpoint=True),np.linspace(1.0,1.0,num=total_bins-charge_bins, endpoint=True))\n",
    "    vdw_x = np.arange(total_bins)\n",
    "    vdw_y =  np.append(np.linspace(0.0,0.0,num=charge_bins, endpoint=True),np.linspace(0.0,1.0, num=total_bins-charge_bins, endpoint=True))\n",
    "    vdw_y_taper =  np.append(np.append(np.append(np.linspace(0.0,0.0,num=charge_bins-1, endpoint=True),np.linspace(0.0,taper1_val, num=total_bins-charge_bins-taper1_bins-taper2_bins+1, endpoint=False)),\n",
    "                         np.linspace(taper1_val,taper2_val, num=taper1_bins, endpoint=False)),\n",
    "                         np.linspace(taper2_val,1.0, num=taper2_bins, endpoint=True))\n",
    "    \n",
    "#np.linspace(0.0,1.0, num=30, endpoint=True)[25]\n",
    "    plt.plot(charge_x, charge_y, 'o')\n",
    "    #plt.plot(vdw_x, vdw_y, '-')\n",
    "    plt.plot(vdw_x, vdw_y_taper, '^')\n",
    "    #plt.plot(np.arange(total_bins), test_charge, 'o')\n",
    "    #plt.plot(np.arange(total_bins), test_vdw, 'x')\n",
    "    #plt.plot(np.arange(total_bins), test_bonding, 'x')\n",
    "    return (vdw_x, vdw_y_taper)\n",
    "    plt.show()\n",
    "\n",
    "\n"
   ]
  },
  {
   "cell_type": "code",
   "execution_count": null,
   "metadata": {},
   "outputs": [],
   "source": [
    "%matplotlib inline\n",
    "gen_sequence(40,10)"
   ]
  },
  {
   "cell_type": "code",
   "execution_count": null,
   "metadata": {},
   "outputs": [],
   "source": [
    "\n",
    "%matplotlib inline\n",
    "plt.style.use('seaborn')\n",
    "from ipywidgets import interactive\n",
    "import matplotlib.pyplot as plt\n",
    "import numpy as np\n",
    "\n",
    "def f(m, b):\n",
    "    plt.figure(2)\n",
    "    x = np.linspace(-10, 10, num=1000)\n",
    "    plt.plot(x, m * x + b)\n",
    "    plt.ylim(-5, 5)\n",
    "    plt.show()\n",
    "\n",
    "interactive_plot = interactive(gen_sequence, total_bins=(35, 50), charge_bins=(5, 10))\n",
    "output = interactive_plot.children[-1]\n",
    "output.layout.height = '700px'\n",
    "interactive_plot"
   ]
  },
  {
   "cell_type": "code",
   "execution_count": null,
   "metadata": {},
   "outputs": [],
   "source": [
    "help(interactive)"
   ]
  },
  {
   "cell_type": "code",
   "execution_count": null,
   "metadata": {},
   "outputs": [],
   "source": [
    "\n",
    "%matplotlib inline\n",
    "from ipywidgets import interactive\n",
    "import matplotlib.pyplot as plt\n",
    "import numpy as np\n",
    "\n",
    "def f(m, b):\n",
    "    plt.figure(2)\n",
    "    x = np.linspace(-10, 10, num=1000)\n",
    "    plt.plot(x, m * x + b)\n",
    "    plt.ylim(-5, 5)\n",
    "    plt.show()\n",
    "\n",
    "interactive_plot = interactive(f, m=(-2.0, 2.0), b=(-3, 3, 0.5))\n",
    "output = interactive_plot.children[-1]\n",
    "output.layout.height = '350px'\n",
    "interactive_plot"
   ]
  },
  {
   "cell_type": "code",
   "execution_count": null,
   "metadata": {},
   "outputs": [],
   "source": [
    "from __future__ import print_function\n",
    "from ipywidgets import interact, interactive, fixed, interact_manual\n",
    "import ipywidgets as widgets\n"
   ]
  },
  {
   "cell_type": "code",
   "execution_count": null,
   "metadata": {},
   "outputs": [],
   "source": [
    "@interact(total_bins=(10,80,1), charge_bins=(0,20,1),taper1_val=(0,1,0.01),taper2_val=(0,1,0.01))\n",
    "def gen_sequence(total_bins=40, charge_bins=10, taper1_bins=3,  taper1_val=0.95, taper2_bins=3, taper2_val=0.99,charge_first=True):\n",
    "\n",
    "    # taper1_val is the value of to start with e.g. 0.98\n",
    "    # taper 2_val is the value tto end tapr 1 at and start taper 2\n",
    "    # taper1_bins is number of bins or pnts to taper over e.g. \n",
    "    # taper 2 bins e.g. the last 3 bins then put in 3\n",
    "    \n",
    "    #inelegant yet simple parameter error resolution\n",
    "    if total_bins<10: total_bins=10\n",
    "    if taper1_val<0: taper1_val=0\n",
    "    if taper2_val<taper1_val: taper2_val=taper1_val\n",
    "    if taper2_val>1: taper2_val=1\n",
    "    if taper1_val>taper2_val: taper1_val=taper2_val\n",
    "    if taper1_bins<0: taper1_bins=0\n",
    "    if taper2_bins<0: taper2_bins=0\n",
    "        \n",
    "    if charge_bins+taper1_bins+taper2_bins>total_bins: \n",
    "        return(\"ERROR: sum of charge bins and taper bins> total bins\")\n",
    "        \n",
    "    x = np.arange(total_bins)\n",
    "    if charge_bins==0:\n",
    "        \n",
    "        vdw_y_taper =  np.append(np.append(np.linspace(0.0,taper1_val, num=total_bins-taper1_bins-taper2_bins, endpoint=False),\n",
    "                         np.linspace(taper1_val,taper2_val, num=taper1_bins, endpoint=False)),\n",
    "                         np.linspace(taper2_val,1.0, num=taper2_bins, endpoint=True))\n",
    "    else:\n",
    "        charge_y = np.append(np.linspace(0.0,1.0, num=charge_bins, endpoint=True),np.linspace(1.0,1.0,num=total_bins-charge_bins, endpoint=True))\n",
    "    #vdw_y =  np.append(np.linspace(0.0,0.0,num=charge_bins, endpoint=True),np.linspace(0.0,1.0, num=total_bins-charge_bins, endpoint=True))\n",
    "        vdw_y_taper =  np.append(np.append(np.append(np.linspace(0.0,0.0,num=charge_bins-1, endpoint=True),np.linspace(0.0,taper1_val, num=total_bins-charge_bins-taper1_bins-taper2_bins+1, endpoint=False)),\n",
    "                         np.linspace(taper1_val,taper2_val, num=taper1_bins, endpoint=False)),\n",
    "                         np.linspace(taper2_val,1.0, num=taper2_bins, endpoint=True))\n",
    "    \n",
    "    if not charge_first:\n",
    "        return(\"Oops, Not coded this VDW first feature yet!\")\n",
    "        # WRONG! tmp = charge_y\n",
    "        #charge_y = vdw_y_taper\n",
    "        #vdw_y_taper = tmp\n",
    "#np.linspace(0.0,1.0, num=30, endpoint=True)[25]\n",
    "    if charge_bins>0: plt.plot(x, charge_y, 'o')\n",
    "    plt.plot(x, vdw_y_taper, '^')\n",
    "    plt.show()\n",
    "    print(\"Total bins (zero-based indexing):\",total_bins-1)\n",
    "    if charge_bins>0: print(\"Charge: \", np.array_str(charge_y, precision=2, max_line_width=10000).replace('[','').replace(']',''))\n",
    "    print(\"VDW: \", np.array_str(vdw_y_taper, precision=2, max_line_width=10000).replace('[','').replace(']',''))\n",
    "    print(\"Bond: \", np.array_str(vdw_y_taper, precision=2, max_line_width=10000).replace('[','').replace(']',''))\n",
    "    \n",
    "\n",
    "#unforunately just decorating doesn't allow the control I want over these variables. "
   ]
  },
  {
   "cell_type": "code",
   "execution_count": null,
   "metadata": {},
   "outputs": [],
   "source": [
    "import matplotlib.pyplot as plt\n",
    "import numpy as np\n",
    "import pandas as pd\n",
    "plt.style.use('seaborn')\n",
    "%config InlineBackend.figure_format = 'svg'\n",
    "#importing the necessary items from the Ipywidgets library \n",
    "from ipywidgets import interactive,interact, HBox, Layout,VBox\n",
    "#function to plot the different curves\n",
    "def plot_function(u=1,v=2,w=3,x=4,y=5,z=6):\n",
    "    time=np.arange(0,1,0.01)\n",
    "    df=pd.DataFrame({\"Y1\":np.sin(time*u*2*np.pi),\"y2\":np.sin(time*v*2*np.pi),\"y3\":np.sin(time*w*2*np.pi),\n",
    "                    \"y4\":np.sin(time*x*2*np.pi),\"y5\":np.sin(time*y*2*np.pi),\"y6\":np.sin(time*z*2*np.pi)})\n",
    "    df.plot()\n",
    "widget=interactive(plot_function,u=1,v=2,w=3,x=4,y=5,z=6)\n",
    "controls = HBox(widget.children[:-1], layout = Layout(flex_flow='row wrap'))\n",
    "output = widget.children[-1]\n",
    "display(VBox([controls, output]))"
   ]
  },
  {
   "cell_type": "code",
   "execution_count": null,
   "metadata": {},
   "outputs": [],
   "source": [
    "a = widgets.IntSlider(description='a')\n",
    "b = widgets.IntSlider(description='b')\n",
    "c = widgets.IntSlider(description='c')\n",
    "def f(a, b, c):\n",
    "    print('{}*{}*{}={}'.format(a, b, c, a*b*c))\n",
    "\n",
    "out = widgets.interactive_output(f, {'a': a, 'b': b, 'c': c})\n",
    "\n",
    "widgets.HBox([widgets.VBox([a, b, c]), out])"
   ]
  },
  {
   "cell_type": "code",
   "execution_count": null,
   "metadata": {},
   "outputs": [],
   "source": []
  }
 ],
 "metadata": {
  "kernelspec": {
   "display_name": "Python 3",
   "language": "python",
   "name": "python3"
  },
  "language_info": {
   "codemirror_mode": {
    "name": "ipython",
    "version": 3
   },
   "file_extension": ".py",
   "mimetype": "text/x-python",
   "name": "python",
   "nbconvert_exporter": "python",
   "pygments_lexer": "ipython3",
   "version": "3.8.3"
  }
 },
 "nbformat": 4,
 "nbformat_minor": 4
}
