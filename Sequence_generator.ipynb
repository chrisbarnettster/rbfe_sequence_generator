{
 "cells": [
  {
   "cell_type": "markdown",
   "metadata": {},
   "source": [
    "# Relative Binding Free Energy Lambda Sequence Generator\n",
    "\n",
    "- The idea is a simple and *interactive* way to generate charge, vdW and bond lambdas for a relative free energy of binding calculation.\n",
    "    - These values are available to copy (and note there is no enter in the long string of numbers although the text has flowed)\n",
    "    - Graph output is also a sanity check.\n",
    "\n",
    "\n",
    "- Comment on coding style: Umm, yeah this is a hack. Have done some awful things. Comments welcome.\n",
    "- Has this been done before: Maybe there is already something out there. IDK.\n",
    "- Will this look and work better in Bokeh or Plotly - probably"
   ]
  },
  {
   "cell_type": "code",
   "execution_count": 1,
   "metadata": {},
   "outputs": [],
   "source": [
    "import numpy as np\n",
    "import pandas as pd\n",
    "import scipy\n",
    "import matplotlib.pyplot as plt\n",
    "import matplotlib\n",
    "from ipywidgets import interact, interactive, fixed, interact_manual\n",
    "import ipywidgets as widgets\n",
    "\n",
    "%matplotlib inline\n",
    "plt.style.use('seaborn')\n",
    "\n",
    "\n"
   ]
  },
  {
   "cell_type": "code",
   "execution_count": 2,
   "metadata": {},
   "outputs": [
    {
     "data": {
      "application/vnd.jupyter.widget-view+json": {
       "model_id": "6d1e76778f4e42499af60f030af821ea",
       "version_major": 2,
       "version_minor": 0
      },
      "text/plain": [
       "interactive(children=(IntSlider(value=40, description='total_bins', max=80, min=10), IntSlider(value=10, descr…"
      ]
     },
     "metadata": {},
     "output_type": "display_data"
    }
   ],
   "source": [
    "@interact(total_bins=(10,80,1), charge_bins=(0,20,1),taper1_val=(0,1,0.01),taper2_val=(0,1,0.01))\n",
    "def gen_sequence(total_bins=40, charge_bins=10, taper1_bins=3,  taper1_val=0.95, taper2_bins=3, taper2_val=0.99,charge_first=True):\n",
    "\n",
    "    # total_bins is the total number of free energy bins (indexed from 1)\n",
    "    # charge_bins is the total bins to use for charge perturbation\n",
    "    # taper1_val is the taper value to start with e.g. 0.98\n",
    "    # taper 2_val is the value to end taper 1 at and start taper 2\n",
    "    # taper1_bins is number of bins or pnts to taper over e.g. 3 bins\n",
    "    # taper2_bins is number of bins or pnts to taper over e.g. the last 3 bins then put in 3\n",
    "    \n",
    "    #inelegant yet simple parameter error resolution\n",
    "    if total_bins<10: total_bins=10\n",
    "    if taper1_val<0: taper1_val=0\n",
    "    if taper2_val<taper1_val: taper2_val=taper1_val\n",
    "    if taper2_val>1: taper2_val=1\n",
    "    if taper1_val>taper2_val: taper1_val=taper2_val\n",
    "    if taper1_bins<0: taper1_bins=0\n",
    "    if taper2_bins<0: taper2_bins=0\n",
    "        \n",
    "    if charge_bins+taper1_bins+taper2_bins>total_bins: \n",
    "        return(\"ERROR: sum of charge bins and taper bins> total bins\")\n",
    "        \n",
    "    x = np.arange(total_bins)\n",
    "    if charge_bins==0:\n",
    "        \n",
    "        vdw_y_taper =  np.append(np.append(np.linspace(0.0,taper1_val, num=total_bins-taper1_bins-taper2_bins, endpoint=False),\n",
    "                         np.linspace(taper1_val,taper2_val, num=taper1_bins, endpoint=False)),\n",
    "                         np.linspace(taper2_val,1.0, num=taper2_bins, endpoint=True))\n",
    "    else:\n",
    "        charge_y = np.append(np.linspace(0.0,1.0, num=charge_bins, endpoint=True),np.linspace(1.0,1.0,num=total_bins-charge_bins, endpoint=True))\n",
    "    #vdw_y =  np.append(np.linspace(0.0,0.0,num=charge_bins, endpoint=True),np.linspace(0.0,1.0, num=total_bins-charge_bins, endpoint=True))\n",
    "        vdw_y_taper =  np.append(np.append(np.append(np.linspace(0.0,0.0,num=charge_bins-1, endpoint=True),np.linspace(0.0,taper1_val, num=total_bins-charge_bins-taper1_bins-taper2_bins+1, endpoint=False)),\n",
    "                         np.linspace(taper1_val,taper2_val, num=taper1_bins, endpoint=False)),\n",
    "                         np.linspace(taper2_val,1.0, num=taper2_bins, endpoint=True))\n",
    "    \n",
    "    if not charge_first:\n",
    "        return(\"Oops, Not coded this VDW first feature yet!\")\n",
    "        # WRONG! tmp = charge_y\n",
    "        #charge_y = vdw_y_taper\n",
    "        #vdw_y_taper = tmp\n",
    "#np.linspace(0.0,1.0, num=30, endpoint=True)[25]\n",
    "    if charge_bins>0: plt.plot(x, charge_y, 'o')\n",
    "    plt.plot(x, vdw_y_taper, '^')\n",
    "    plt.show()\n",
    "    print(\"Total bins (zero-based indexing):\",total_bins-1)\n",
    "    if charge_bins>0: print(\"Charge: \", np.array_str(charge_y, precision=2, max_line_width=10000).replace('[','').replace(']',''))\n",
    "    print(\"VDW: \", np.array_str(vdw_y_taper, precision=2, max_line_width=10000).replace('[','').replace(']',''))\n",
    "    print(\"Bond: \", np.array_str(vdw_y_taper, precision=2, max_line_width=10000).replace('[','').replace(']',''))"
   ]
  }
 ],
 "metadata": {
  "kernelspec": {
   "display_name": "Python 3",
   "language": "python",
   "name": "python3"
  },
  "language_info": {
   "codemirror_mode": {
    "name": "ipython",
    "version": 3
   },
   "file_extension": ".py",
   "mimetype": "text/x-python",
   "name": "python",
   "nbconvert_exporter": "python",
   "pygments_lexer": "ipython3",
   "version": "3.8.3"
  }
 },
 "nbformat": 4,
 "nbformat_minor": 4
}
